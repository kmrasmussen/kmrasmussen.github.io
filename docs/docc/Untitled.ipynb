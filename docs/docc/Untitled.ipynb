{
 "cells": [
  {
   "cell_type": "code",
   "execution_count": 28,
   "metadata": {},
   "outputs": [],
   "source": [
    "import matplotlib.pyplot as plt\n",
    "import numpy as np"
   ]
  },
  {
   "cell_type": "code",
   "execution_count": 29,
   "metadata": {},
   "outputs": [],
   "source": [
    "def f(x):\n",
    "    return (2*x % 1)"
   ]
  },
  {
   "cell_type": "code",
   "execution_count": 30,
   "metadata": {},
   "outputs": [],
   "source": [
    "def run_iteratively(f, start, n):\n",
    "    history = []\n",
    "    current = start\n",
    "    for i in range(n):\n",
    "        history.append(current)\n",
    "        current = f(current)\n",
    "    return history"
   ]
  },
  {
   "cell_type": "code",
   "execution_count": 51,
   "metadata": {},
   "outputs": [
    {
     "data": {
      "text/plain": [
       "[<matplotlib.lines.Line2D at 0x7f915628d400>]"
      ]
     },
     "execution_count": 51,
     "metadata": {},
     "output_type": "execute_result"
    },
    {
     "data": {
      "image/png": "[encoded data removed]",
      "text/plain": [
       "<Figure size 432x288 with 1 Axes>"
      ]
     },
     "metadata": {
      "needs_background": "light"
     },
     "output_type": "display_data"
    }
   ],
   "source": [
    "def test_end(f, start, n):\n",
    "    current = start\n",
    "    for i in range(n):\n",
    "        current = f(current)\n",
    "    return current\n",
    "\n",
    "def fractionConvergesToZero(interval):\n",
    "    denominator = 0\n",
    "    numerator = 0\n",
    "    for i in np.arange(0.0, 1.1, 0.01):\n",
    "        denominator = denominator + 1\n",
    "        if(test_end(f, i, interval) == 0):\n",
    "            numerator = numerator + 1\n",
    "    fraction = numerator / denominator\n",
    "    return fraction\n",
    "convergenceForInterval = []\n",
    "for i in range(100):\n",
    "    convergenceForInterval.append(fractionConvergesToZero(i))\n",
    "plt.plot(convergenceForInterval)"
   ]
  },
  {
   "cell_type": "code",
   "execution_count": null,
   "metadata": {},
   "outputs": [],
   "source": []
  },
  {
   "cell_type": "code",
   "execution_count": null,
   "metadata": {},
   "outputs": [],
   "source": []
  }
 ],
 "metadata": {
  "kernelspec": {
   "display_name": "Python 3",
   "language": "python",
   "name": "python3"
  },
  "language_info": {
   "codemirror_mode": {
    "name": "ipython",
    "version": 3
   },
   "file_extension": ".py",
   "mimetype": "text/x-python",
   "name": "python",
   "nbconvert_exporter": "python",
   "pygments_lexer": "ipython3",
   "version": "3.6.8"
  }
 },
 "nbformat": 4,
 "nbformat_minor": 2
}
